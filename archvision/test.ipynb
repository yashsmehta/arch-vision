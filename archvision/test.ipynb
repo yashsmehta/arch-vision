{
 "cells": [
  {
   "cell_type": "code",
   "execution_count": 5,
   "id": "b7b0d07d-bc4d-469e-b632-ec4ff3f0ffee",
   "metadata": {},
   "outputs": [],
   "source": [
    "\"\"\"\n",
    "this file will specify the config, and then call benchmark.py to calculate the brain score metrics.\n",
    "this will also append the results to a common file.\n",
    "\"\"\"\n",
    "import sys\n",
    "sys.path.append('/home/akazemi3/Desktoparchvision/archvision')\n",
    "from omegaconf import OmegaConf\n",
    "\n",
    "\n",
    "cfg_dict = {\n",
    "    \n",
    "# \"wavelet\": {\n",
    "#     \"layers\": 1,\n",
    "#     \"type\": \"gabor\",\n",
    "# },\n",
    "    \n",
    "\"conv\": {\n",
    "    \"layers\": 4,\n",
    "    \"layer_sizes\": [None, 128, 256, 256],\n",
    "    \"kernel_sizes\": [7, 5, 3, 3],\n",
    "    \"kernel_types\":['curvature','random','random','random'],\n",
    "    \"pool_type\":'max',\n",
    "    \"pool_kernel_sizes\":[2,2,2,2],\n",
    "    \"init\": \"kaiming\",\n",
    "    \"norm\": \"channel\",\n",
    "    \"nonlin\": \"relu\",\n",
    "    },\n",
    "    \n",
    "\"voxel_set\": \"OTC\",\n",
    "\"eval_metric\": \"srpr\",\n",
    "\"benchmark_data_type\": \"fMRI\",\n",
    "\"log_expdata\": True,  # flag to save the training data\n",
    "\"log_dir\": \"logs/\",  # directory to save experimental data\n",
    "\"exp_name\": \"test\",  # logs are stored under a directory created under this name\n",
    "}\n",
    "\n",
    "cfg = OmegaConf.create(cfg_dict)\n",
    "config = OmegaConf.from_cli()\n",
    "cfg = OmegaConf.merge(cfg, config)"
   ]
  },
  {
   "cell_type": "code",
   "execution_count": 8,
   "id": "e35ebd8b-4b6b-4523-93f5-c40f9056d713",
   "metadata": {},
   "outputs": [
    {
     "name": "stdout",
     "output_type": "stream",
     "text": [
      "torch.Size([1, 256, 13, 13])\n",
      "Now loading the NSD_shared1000 image set and the EVC-OTC voxel set...\n",
      "Extracting sample feature_maps with torchinfo.\n",
      "FeatureExtractor Handle for VisionModel\n",
      "  16 feature maps (-6 duplicates); 1000 inputs\n",
      "  Memory required for full extraction: 94.103 GB\n",
      "  Memory usage limiting device set to: cpu\n",
      "  Memory usage limit currently set to: 82.710 GB\n",
      "  2 batch(es) required for current memory limit \n",
      "   Batch-001: 7 feature maps; 81.425 GB \n",
      "   Batch-002: 9 feature maps; 12.678 GB\n"
     ]
    }
   ],
   "source": [
    "import torch\n",
    "import torchvision.transforms as transforms\n",
    "from models.backbone import VisionModel\n",
    "\n",
    "sys.path.append('/home/akazemi3/Desktop/DeepJuiceDev')\n",
    "from deepjuice import * # the juice\n",
    "from benchmarks.nsd_data import NSDBenchmark\n",
    "\n",
    "devices = {'device': 'cuda', 'output_device': 'cpu'}\n",
    "\n",
    "\n",
    "preprocess = transforms.Compose([\n",
    "    transforms.Resize(256),             \n",
    "    transforms.CenterCrop(224),         \n",
    "    transforms.ToTensor(),             \n",
    "    transforms.Normalize(             \n",
    "        mean=[0.485, 0.456, 0.406],     \n",
    "        std=[0.229, 0.224, 0.225])\n",
    "])\n",
    "\n",
    "model = VisionModel(cfg, device=devices['device'])\n",
    "print(model(torch.Tensor(1,3,224,224)).shape) # test with sample image\n",
    "\n",
    "\n",
    "benchmark = NSDBenchmark() #load brain data benchmark\n",
    "dataloader = get_data_loader(benchmark.image_paths, preprocess)\n",
    "\n",
    "extractor = FeatureExtractor(model, dataloader, flatten=True,\n",
    "                             batch_progress=True, **devices)"
   ]
  },
  {
   "cell_type": "code",
   "execution_count": null,
   "id": "51699928-2354-4b6d-a0e1-600f9003ac6e",
   "metadata": {},
   "outputs": [],
   "source": []
  }
 ],
 "metadata": {
  "kernelspec": {
   "display_name": "Python 3 (ipykernel)",
   "language": "python",
   "name": "python3"
  },
  "language_info": {
   "codemirror_mode": {
    "name": "ipython",
    "version": 3
   },
   "file_extension": ".py",
   "mimetype": "text/x-python",
   "name": "python",
   "nbconvert_exporter": "python",
   "pygments_lexer": "ipython3",
   "version": "3.10.13"
  }
 },
 "nbformat": 4,
 "nbformat_minor": 5
}
