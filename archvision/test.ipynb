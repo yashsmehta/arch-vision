{
 "cells": [
  {
   "cell_type": "code",
   "execution_count": 1,
   "id": "b7b0d07d-bc4d-469e-b632-ec4ff3f0ffee",
   "metadata": {},
   "outputs": [],
   "source": [
    "\"\"\"\n",
    "this file will specify the config, and then call benchmark.py to calculate the brain score metrics.\n",
    "this will also append the results to a common file.\n",
    "\"\"\"\n",
    "import sys\n",
    "sys.path.append('/home/akazemi3/Desktoparchvision/archvision')\n",
    "\n",
    "from omegaconf import OmegaConf\n",
    "\n",
    "\n",
    "cfg_dict = {\n",
    "    \n",
    "# \"wavelet\": {\n",
    "#     \"layers\": 1,\n",
    "#     \"type\": \"gabor\",\n",
    "# },\n",
    "    \n",
    "\"conv\": {\n",
    "    \"layers\": 4,\n",
    "    \"layer_sizes\": [None, 128, 256, 256],\n",
    "    \"kernel_sizes\": [7, 5, 3, 3],\n",
    "    \"kernel_types\":['curvature','random','random','random'],\n",
    "    \"pool_type\":'max',\n",
    "    \"pool_kernel_sizes\":[2,2,2,2],\n",
    "    \"init\": \"kaiming\",\n",
    "    \"norm\": \"channel\",\n",
    "    \"nonlin\": \"relu\",\n",
    "    },\n",
    "    \n",
    "\"voxel_set\": \"OTC\",\n",
    "\"eval_metric\": \"srpr\",\n",
    "\"benchmark_data_type\": \"fMRI\",\n",
    "\"log_expdata\": True,  # flag to save the training data\n",
    "\"log_dir\": \"logs/\",  # directory to save experimental data\n",
    "\"exp_name\": \"test\",  # logs are stored under a directory created under this name\n",
    "}\n",
    "\n",
    "cfg = OmegaConf.create(cfg_dict)\n",
    "\n",
    "config = OmegaConf.from_cli()\n",
    "cfg = OmegaConf.merge(cfg, config)"
   ]
  },
  {
   "cell_type": "code",
   "execution_count": 2,
   "id": "e35ebd8b-4b6b-4523-93f5-c40f9056d713",
   "metadata": {},
   "outputs": [
    {
     "name": "stdout",
     "output_type": "stream",
     "text": [
      "torch.Size([1, 256, 13, 13])\n"
     ]
    }
   ],
   "source": [
    "\"\"\"\n",
    "evals.py will be called by runner.py. It is the main flow of control and will call model builder,\n",
    "benchmarking, and logging results.\n",
    "\"\"\"\n",
    "import torch\n",
    "from models.backbone import VisionModel\n",
    "\n",
    "\n",
    "model = VisionModel(cfg)\n",
    "features = model(torch.Tensor(1,3,224,224))\n",
    "print(features.shape)"
   ]
  },
  {
   "cell_type": "code",
   "execution_count": null,
   "id": "0c9acb83-30f5-4ff2-a164-c954b86d4d5d",
   "metadata": {},
   "outputs": [],
   "source": []
  }
 ],
 "metadata": {
  "kernelspec": {
   "display_name": "Python 3 (ipykernel)",
   "language": "python",
   "name": "python3"
  },
  "language_info": {
   "codemirror_mode": {
    "name": "ipython",
    "version": 3
   },
   "file_extension": ".py",
   "mimetype": "text/x-python",
   "name": "python",
   "nbconvert_exporter": "python",
   "pygments_lexer": "ipython3",
   "version": "3.10.13"
  }
 },
 "nbformat": 4,
 "nbformat_minor": 5
}
